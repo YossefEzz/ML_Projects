{
  "nbformat": 4,
  "nbformat_minor": 0,
  "metadata": {
    "colab": {
      "provenance": [],
      "authorship_tag": "ABX9TyPd1YFhIF8yqvxeDSek/Ps/",
      "include_colab_link": true
    },
    "kernelspec": {
      "name": "python3",
      "display_name": "Python 3"
    },
    "language_info": {
      "name": "python"
    }
  },
  "cells": [
    {
      "cell_type": "markdown",
      "metadata": {
        "id": "view-in-github",
        "colab_type": "text"
      },
      "source": [
        "<a href=\"https://colab.research.google.com/github/YossefEzz/ML_projects/blob/main/01_ITI_EDA_supply_chain.ipynb\" target=\"_parent\"><img src=\"https://colab.research.google.com/assets/colab-badge.svg\" alt=\"Open In Colab\"/></a>"
      ]
    },
    {
      "cell_type": "code",
      "execution_count": 1,
      "metadata": {
        "id": "kFwBGV00btWx",
        "outputId": "a00ba156-ab31-4281-caa9-d5008a6e405b",
        "colab": {
          "base_uri": "https://localhost:8080/"
        }
      },
      "outputs": [
        {
          "output_type": "stream",
          "name": "stdout",
          "text": [
            "Requirement already satisfied: kaggle in /usr/local/lib/python3.10/dist-packages (1.6.17)\n",
            "Requirement already satisfied: six>=1.10 in /usr/local/lib/python3.10/dist-packages (from kaggle) (1.16.0)\n",
            "Requirement already satisfied: certifi>=2023.7.22 in /usr/local/lib/python3.10/dist-packages (from kaggle) (2024.7.4)\n",
            "Requirement already satisfied: python-dateutil in /usr/local/lib/python3.10/dist-packages (from kaggle) (2.8.2)\n",
            "Requirement already satisfied: requests in /usr/local/lib/python3.10/dist-packages (from kaggle) (2.32.3)\n",
            "Requirement already satisfied: tqdm in /usr/local/lib/python3.10/dist-packages (from kaggle) (4.66.5)\n",
            "Requirement already satisfied: python-slugify in /usr/local/lib/python3.10/dist-packages (from kaggle) (8.0.4)\n",
            "Requirement already satisfied: urllib3 in /usr/local/lib/python3.10/dist-packages (from kaggle) (2.0.7)\n",
            "Requirement already satisfied: bleach in /usr/local/lib/python3.10/dist-packages (from kaggle) (6.1.0)\n",
            "Requirement already satisfied: webencodings in /usr/local/lib/python3.10/dist-packages (from bleach->kaggle) (0.5.1)\n",
            "Requirement already satisfied: text-unidecode>=1.3 in /usr/local/lib/python3.10/dist-packages (from python-slugify->kaggle) (1.3)\n",
            "Requirement already satisfied: charset-normalizer<4,>=2 in /usr/local/lib/python3.10/dist-packages (from requests->kaggle) (3.3.2)\n",
            "Requirement already satisfied: idna<4,>=2.5 in /usr/local/lib/python3.10/dist-packages (from requests->kaggle) (3.7)\n"
          ]
        }
      ],
      "source": [
        "!pip install kaggle"
      ]
    },
    {
      "cell_type": "code",
      "source": [
        "!mkdir ~/.kaggle\n",
        "\n",
        "!cp kaggle.json ~/.kaggle/\n",
        "\n",
        "!chmod 600 ~/.kaggle/kaggle.json"
      ],
      "metadata": {
        "id": "-p9S5_7DbwAS"
      },
      "execution_count": 2,
      "outputs": []
    },
    {
      "cell_type": "code",
      "source": [
        "#!chmod 600 ~/.kaggle/kaggle.json"
      ],
      "metadata": {
        "id": "XjS6Sv0YmNnL"
      },
      "execution_count": 7,
      "outputs": []
    },
    {
      "cell_type": "code",
      "source": [
        "!kaggle datasets  list"
      ],
      "metadata": {
        "colab": {
          "base_uri": "https://localhost:8080/"
        },
        "id": "jmsn43NwmXAj",
        "outputId": "4ad91556-05d9-4375-a2e5-0d30954f685e"
      },
      "execution_count": 5,
      "outputs": [
        {
          "output_type": "stream",
          "name": "stdout",
          "text": [
            "ref                                                             title                                               size  lastUpdated          downloadCount  voteCount  usabilityRating  \n",
            "--------------------------------------------------------------  -------------------------------------------------  -----  -------------------  -------------  ---------  ---------------  \n",
            "muhammadehsan000/healthcare-dataset-2019-2024                   Healthcare Dataset (2019-2024)                       3MB  2024-08-09 17:52:25           2053         44  1.0              \n",
            "muhammadehsan000/global-electric-vehicle-sales-data-2010-2024   Global Electric Vehicle Sales Data (2010-2024)      83KB  2024-08-09 16:39:22           1628         28  1.0              \n",
            "myrios/cost-of-living-index-by-country-by-number-2024           Cost of Living Index by Country                      3KB  2024-07-19 06:25:42           4592         68  1.0              \n",
            "mrmars1010/flipkart-product-datalaptops                         Flipkart Sales Dataset(Laptops)                      6MB  2024-08-11 03:44:59            859         23  0.88235295       \n",
            "muhammadehsan000/olympic-historical-dataset-1896-2020           Olympic Historical Dataset (1896 - 2022)            27MB  2024-08-06 16:46:08           2638         51  1.0              \n",
            "jacopoferretti/mortality-rate-in-the-usa-by-gender-area-cause   Mortality Rate in the USA by Gender, Area, Cause     4KB  2024-08-09 20:06:33            642         24  1.0              \n",
            "waqi786/heart-attack-dataset                                    ❤️ Heart Attack Risk Factors Dataset                 9KB  2024-08-06 10:57:42           2034         34  1.0              \n",
            "youssefismail20/olympic-games-1994-2024                         Olympic Games (1994-2024) 🏅🌍                        16KB  2024-08-11 20:19:04           2049         39  1.0              \n",
            "waqi786/powerlifting-data                                       🏋️ Powerlifting Data                                17KB  2024-08-01 10:18:50            893         23  1.0              \n",
            "abdallahwagih/company-employees                                 Company Employees                                   68KB  2024-08-10 12:13:08           1212         30  0.8235294        \n",
            "muhammadehsan000/2024-electric-car-data-washington-state        Electric Vehicle Data (1997 - 2024)                  6MB  2024-08-04 10:33:24           1469         36  1.0              \n",
            "arpit2712/amazonsalesreport                                     AmazonSalesReport                                    3MB  2024-08-07 19:15:47            865          4  1.0              \n",
            "decentsanage/indian-dishes-analysis-dataset                     Indian Dishes Analysis Dataset                      666B  2024-08-11 23:28:26            572         21  0.8235294        \n",
            "piterfm/paris-2024-olympic-summer-games                         Paris 2024 Olympic Summer Games                      3MB  2024-08-13 01:00:13           5435        152  1.0              \n",
            "sajkazmi/paris-olympics-2024-games-dataset-updated-daily        Paris Olympics 2024 Games Dataset (updated daily)    6MB  2024-08-13 02:25:23            913         24  0.8235294        \n",
            "waqi786/cats-dataset                                            🐾 Cats Dataset                                       6KB  2024-07-31 06:12:49           2798         54  1.0              \n",
            "willianoliveiragibin/ev-sales-2010-2024                         EV Sales: 2010-2024                                116KB  2024-07-30 22:32:16            992         29  1.0              \n",
            "neharoychoudhury/credit-card-fraud-data                         Credit Card Fraud data                             839KB  2024-07-30 03:29:04           1279         34  1.0              \n",
            "muhammadroshaanriaz/cancer-dataset-risk-of-developing-or-dying  Cancer Dataset (Risk of Developing or Dying)        867B  2024-07-26 20:30:18           1227         24  1.0              \n",
            "ihelon/coffee-sales                                             Coffee Sales                                        14KB  2024-08-09 09:00:13          11294        171  1.0              \n"
          ]
        }
      ]
    },
    {
      "cell_type": "code",
      "source": [
        "!kaggle datasets download -d shashwatwork/dataco-smart-supply-chain-for-big-data-analysis"
      ],
      "metadata": {
        "colab": {
          "base_uri": "https://localhost:8080/"
        },
        "id": "I1F6CIKsme7G",
        "outputId": "c4701724-70c2-4447-8fa4-a092d046925a"
      },
      "execution_count": 6,
      "outputs": [
        {
          "output_type": "stream",
          "name": "stdout",
          "text": [
            "Dataset URL: https://www.kaggle.com/datasets/shashwatwork/dataco-smart-supply-chain-for-big-data-analysis\n",
            "License(s): CC0-1.0\n",
            "Downloading dataco-smart-supply-chain-for-big-data-analysis.zip to /content\n",
            " 66% 17.0M/25.7M [00:00<00:00, 42.0MB/s]\n",
            "100% 25.7M/25.7M [00:00<00:00, 55.3MB/s]\n"
          ]
        }
      ]
    },
    {
      "cell_type": "code",
      "source": [],
      "metadata": {
        "id": "DxTDBeMDmtq5"
      },
      "execution_count": null,
      "outputs": []
    }
  ]
}